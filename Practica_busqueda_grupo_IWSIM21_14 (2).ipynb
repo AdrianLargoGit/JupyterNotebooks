{
  "cells": [
    {
      "cell_type": "markdown",
      "metadata": {
        "id": "lY-pfkAxnle2"
      },
      "source": [
        "# A. Enunciado de la práctica"
      ]
    },
    {
      "cell_type": "markdown",
      "metadata": {
        "id": "RZ-_7VRCFt_b"
      },
      "source": []
    },
    {
      "cell_type": "markdown",
      "metadata": {
        "id": "odvJR32Enle5"
      },
      "source": [
        "## 1. Objetivos de la práctica\n",
        "El desarrollo de esta práctica pretende que el alumnado analice, diseñe e implemente soluciones a un problema usando las técnicas de exploración en espacios de estados impartidas en la asignatura Inteligencia Artificial (IA). Para ello, el alumnado desarrollará de forma grupal (por cuartetos) un proyecto de programación en lenguaje Python mediante el uso del entorno de programación Google Colab y cuadernos de Python."
      ]
    },
    {
      "cell_type": "markdown",
      "metadata": {
        "id": "KVH9e_lSnle6"
      },
      "source": [
        "## 2. Caso de estudio\n",
        "Se pretende resolver una variante del problema de las reinas de ajedrez, utilizando caballos en su lugar para descubrir cuántos caballos pueden estar presentes en un tablero de ajedrez sin amenazarse mutuamente. Cualquier configuración de caballos en el tablero es válida siempre y cuando no se amenacen mutuamente, pero se desea encontrar el máximo número de caballos. A continuación se ven varios ejemplos sobre un tablero de tamaño 3x3:\n",
        "\n",
        "```\n",
        "Optimal and Valid   Valid   Not valid\n",
        "K·K                 K·K     K··\n",
        "·K·                 ···     ··K\n",
        "K·K                 K··     ·K·\n",
        "```\n",
        "\n",
        "* Se proporciona un tablero de tamaño MxN (M=Alto, N=Ancho).\n",
        "* El objetivo del algoritmo es encontrar una configuración válida con el máximo número de caballos posible.\n",
        "* El movimiento del caballo forma una L en 8 direcciones posibles, consulta la figura para tener una referencia visual:\n",
        "\n",
        "<img src=\"https://culturacientifica.com/app/uploads/2022/10/imagen-2-560x553.jpg\" alt=\"drawing\" style=\"width:200px;\"/>"
      ]
    },
    {
      "cell_type": "markdown",
      "metadata": {
        "id": "vakmiWD_nle7"
      },
      "source": [
        "## 3. Desarrollo\n",
        "El desarrollo de esta práctica supone completar este cuaderno de python para resolver el problema para varias configuraciones diferentes usando técnicas de Búsqueda. Además, usando este cuaderno de python, se quieren mostrar resultados de la ejecución de los algoritmos para extraer conclusiones sobre las configuraciones del problema. También se desea hacer una comparativa entre los algoritmos de búsqueda seleccionados.\n",
        "\n",
        "Es posible que la configuración del problema sea demasiado grande para alguno de los algoritmos. Como regla general, si el algoritmo tarda más de 5 minutos en completar su ejecución se puede declarar que el algoritmo no ha encontrado solución en un tiempo razonable (y lo indicamos en el análisis de resultados)\n",
        "\n",
        "* Se proporcionan varias configuraciones:\n",
        "    * Un tablero de **2x2**,\n",
        "    * Un tablero de **3x3**,\n",
        "    * Un tablero de **3x5**,\n",
        "    * Un tablero de **5x5**,\n",
        "    * Un tablero de **8x8**.\n",
        "* Se desea aplicar dos algoritmos:\n",
        "    * **Branch & Bound**: Se quiere obtener una solución óptima, (máximo número de caballos)\n",
        "    * **A-Star**: Se debe proporcionar (al menos) una heurística admisible para encontrar una solución óptima. En esta memoria se debe justificar que la heurística sea admisible, haciendo la demostración correspondiente.\n",
        "\n",
        "Para cada configuración y algoritmo se debe proporcionar una tabla de estas características (Puede usarse un generador de tablas https://www.tablesgenerator.com/markdown_tables o pandas https://pandas.pydata.org/docs/user_guide/index.html):\n",
        "\n",
        "| Tablero | Algoritmo | Tiempo | Caballos |\n",
        "|---------|-----------|--------|----------|\n",
        "| 3x3     |  A*       | 3s     | 4        |\n",
        "| 3x3     |  B&B      | 5s     | 4        |\n",
        "| 3x5     |  A*       | 10s    | 6        |"
      ]
    },
    {
      "cell_type": "markdown",
      "metadata": {
        "id": "k7n6wwIjnle8"
      },
      "source": [
        "## 4. Normativa de la práctica\n",
        "Para el desarrollo del proyecto de programación se proporciona este cuaderno que sirve a modo de proyecto de programación. Se han propuesto varias configuraciones de tablero para utilizar en las distintas pruebas. Se permiten crear todas las funciones adicionales que sea necesario siempre y cuando se respete la estructura general de este cuaderno. Este cuaderno es el único entregable, por tanto desarrollar código fuera de él no es recomendable.\n",
        "\n",
        "Además de explicar las decisiones tomadas, será necesario realizar una comparativa de resultados en una o varias tablas, así como incluir una comparativa  final.\n",
        "\n",
        "La práctica debe realizarse teniendo en cuenta la siguiente normativa:\n",
        "* NO está permitido alterar los nombres, parámetros ni tipo de retorno de ninguno de los métodos proporcionados. El método modificado se evaluará como 0 así como todos los métodos que dependan de él.\n",
        "* No está permitido el uso de librerías externas excepto numpy y pandas. El uso de librerías externas hará que se evalúe la práctica como 0.\n",
        "* La práctica se realizará de forma grupal (grupos de 4 alumnos). Cada grupo deberá desarrollar de manera independiente su propia práctica y realizar su propia entrega.\n",
        "* El plagio de la práctica queda estrictamente prohibido. La detección de plagio supondrá una calificación de 0 en la convocatoria de la asignatura para todos los alumnos implicados, así como la posibilidad de apertura de expediente académico disciplinar.\n",
        "* Para ser evaluado de la práctica es obligatorio entregarla en plazo, habiendo realizado correctamente al menos una funcionalidad de las pedidas. Una entrega fuera de plazo será evaluada como 0.\n",
        "* Usa este cuaderno a modo de memoria, justificando las decisiones que tomes a lo largo del proceso de desarrollo. El desarrollo en texto puntúa de cara a la nota de la práctica.\n",
        "* De cara a la entrega es estrictamente necesario entregar el cuaderno ejecutado al completo. Una entrega que no haya sido ejecutada con éxito hasta la última celda será evaluada como 0. (Entregad el archivo .ipynb)\n",
        "* Se debe comentar el código adecuadamente. Este apartado es puntuable."
      ]
    },
    {
      "cell_type": "markdown",
      "metadata": {
        "id": "FyyEkYr_nle8"
      },
      "source": [
        "# Cuerpo de la práctica\n",
        "Usa las siguientes celdas para desarrollar todo el código pedido. Recuerda respetar esta estructura general y añadir celdas siempre dentro de cada apartado."
      ]
    },
    {
      "cell_type": "markdown",
      "metadata": {
        "id": "kY6Qan4Qnle9"
      },
      "source": [
        "## Gestión de estados"
      ]
    },
    {
      "cell_type": "markdown",
      "metadata": {
        "id": "KxjhQNXJnle9"
      },
      "source": [
        "### Estado inicial"
      ]
    },
    {
      "cell_type": "code",
      "execution_count": 1,
      "metadata": {
        "id": "lmcM4aPvnle-"
      },
      "outputs": [],
      "source": [
        "def initial_state(M, N):\n",
        "    return [[0 for _ in range(N)] for _ in range(M)]"
      ]
    },
    {
      "cell_type": "code",
      "execution_count": 2,
      "metadata": {
        "colab": {
          "base_uri": "https://localhost:8080/"
        },
        "id": "4Ls4POJvnle_",
        "outputId": "74a58126-ac73-4cd5-df5e-6ef8f1b5c83a"
      },
      "outputs": [
        {
          "output_type": "stream",
          "name": "stdout",
          "text": [
            "[[0, 0, 0], [0, 0, 0], [0, 0, 0], [0, 0, 0], [0, 0, 0]]\n"
          ]
        }
      ],
      "source": [
        "# Ejemplo de uso de la función estado inicial\n",
        "board = initial_state(5, 3)\n",
        "print(board)"
      ]
    },
    {
      "cell_type": "markdown",
      "metadata": {
        "id": "OEYJxTWs-Zfb"
      },
      "source": []
    },
    {
      "cell_type": "markdown",
      "metadata": {
        "id": "JVeEjXCjnle_"
      },
      "source": [
        "### Expansion de estados"
      ]
    },
    {
      "cell_type": "code",
      "execution_count": 3,
      "metadata": {
        "id": "uhWTFjURA4Hj"
      },
      "outputs": [],
      "source": [
        "# Posibles movimientos de un caballo (x,y)\n",
        "moves = [\n",
        "        (2, 1), (2, -1), (-2, 1), (-2, -1),\n",
        "        (1, 2), (1, -2), (-1, 2), (-1, -2)\n",
        "    ]"
      ]
    },
    {
      "cell_type": "code",
      "execution_count": 4,
      "metadata": {
        "id": "zMxeaBm_D8VS"
      },
      "outputs": [],
      "source": [
        "#  Función que copia un tablero completo\n",
        "def copy_board(b):\n",
        "    return [row[:] for row in b]"
      ]
    },
    {
      "cell_type": "code",
      "execution_count": 5,
      "metadata": {
        "id": "qwDZJdfInlfA"
      },
      "outputs": [],
      "source": [
        "def expand(board):\n",
        "    boards = []\n",
        "    M = len(board)\n",
        "    N = len(board[0])\n",
        "\n",
        "    # Función que coloca un caballo en una posición dada\n",
        "    def place_knight(b, i, j):\n",
        "        new_board = copy_board(b)\n",
        "        new_board[i][j] = \"K\"\n",
        "        return new_board\n",
        "\n",
        "    for i in range(M):\n",
        "        for j in range(N):\n",
        "            if board[i][j] == 0:\n",
        "                # Verifica si el caballo puede ser colocado (no amenazado)\n",
        "                can_place = True\n",
        "                for move in moves:\n",
        "                    ni, nj = i + move[0], j + move[1]\n",
        "                    if 0 <= ni < M and 0 <= nj < N and board[ni][nj] == \"K\":\n",
        "                        can_place = False #Si está amenazado no lo coloca\n",
        "                        break\n",
        "                if can_place:\n",
        "                    new_board = place_knight(board, i, j)\n",
        "                    boards.append(new_board)\n",
        "\n",
        "    return boards"
      ]
    },
    {
      "cell_type": "code",
      "execution_count": 6,
      "metadata": {
        "id": "4fEi9232nlfA"
      },
      "outputs": [],
      "source": [
        "def print_board(board):\n",
        "    for row in board:\n",
        "        print(' '.join(str(cell) for cell in row))\n",
        "    print()\n",
        "\n",
        "def dfs_max_knights(board):\n",
        "    M = len(board)\n",
        "    N = len(board[0])\n",
        "    board_cells = M * N\n",
        "    half_board = board_cells // 2\n",
        "    #Como los caballos solo atacan a celdas blancas si están en una negra y viceversa, se puede dividir en 2\n",
        "    # Si el área es impar, uno tendrá una celda adicional\n",
        "    max_knights = half_board + (board_cells % 2)\n",
        "\n",
        "    return max_knights\n",
        "\n",
        "\n"
      ]
    },
    {
      "cell_type": "markdown",
      "metadata": {
        "id": "HSrznxK8nlfA"
      },
      "source": [
        "### Solucion alcanzada"
      ]
    },
    {
      "cell_type": "code",
      "execution_count": 7,
      "metadata": {
        "id": "zei8cHgWnlfA"
      },
      "outputs": [],
      "source": [
        "def is_solution(board):\n",
        "    M = len(board)\n",
        "    N = len(board[0])\n",
        "\n",
        "    for i in range(M):\n",
        "        for j in range(N):\n",
        "            if board[i][j] == \"K\":  # Si hay un caballo en la posición (i, j)\n",
        "                for move in moves:\n",
        "                    ni, nj = i + move[0], j + move[1]\n",
        "                    if 0 <= ni < M and 0 <= nj < N and board[ni][nj] == \"K\":\n",
        "                        return False  # Hay otro caballo amenazado, no es solución\n",
        "    return True  # Ningún caballo está amenazado"
      ]
    },
    {
      "cell_type": "markdown",
      "metadata": {
        "id": "lfGUFrRPnlfB"
      },
      "source": [
        "## Métricas"
      ]
    },
    {
      "cell_type": "markdown",
      "metadata": {
        "id": "v0flBhGFnlfC"
      },
      "source": [
        "### Funcion de coste"
      ]
    },
    {
      "cell_type": "code",
      "execution_count": 8,
      "metadata": {
        "id": "LdTe68E0nlfC"
      },
      "outputs": [],
      "source": [
        "def cost(path): # path debe contener VARIOS tableros\n",
        "    # Calcula el coste de un camino\n",
        "    # Esto debería ser posible: board = path[-1]\n",
        "    #Solo coge el último tablero porque los anteriores son del mismo coste que las demás listas\n",
        "    cost = 0\n",
        "    board = path[-1]\n",
        "    M = len(board)\n",
        "    N = len(board[0])\n",
        "    for d in range(M):\n",
        "        for j in range(N):\n",
        "            if board[d][j]=='0':  # Para minimar coste\n",
        "                cost += 1\n",
        "    return cost"
      ]
    },
    {
      "cell_type": "markdown",
      "metadata": {
        "id": "gfU4IzJYnlfD"
      },
      "source": [
        "### Heurística(s)"
      ]
    },
    {
      "cell_type": "code",
      "execution_count": 9,
      "metadata": {
        "id": "JQbMwal-nlfD"
      },
      "outputs": [],
      "source": [
        "def heuristic_1(board):\n",
        "    M = len(board)\n",
        "    N = len(board[0])\n",
        "    h = 0\n",
        "\n",
        "    for i in range(M):\n",
        "        for j in range(N):\n",
        "            if board[i][j] == 0:  # Solo consideramos celdas vacías\n",
        "                threatened = False\n",
        "                for move in moves:\n",
        "                    ni, nj = i + move[0], j + move[1]\n",
        "                    if 0 <= ni < M and 0 <= nj < N and board[ni][nj] == \"K\": #Si está amenazado que no cuente\n",
        "                        threatened = True\n",
        "                        break\n",
        "                if not threatened:\n",
        "                    h += 1\n",
        "    return h"
      ]
    },
    {
      "cell_type": "markdown",
      "metadata": {
        "id": "bwzDuUWznlfD"
      },
      "source": [
        "#### Admisibilidad de la heurística\n",
        "\n",
        "Esta heurística mide la seguridad de las celdas vacías en el tablero. En el contexto de búsqueda de nuestro problema representa un valor estimado **de cuán buena es una configuración particular de caballos** sobre el tablero específico **sin que se amenacen entre si.**\n",
        "\n",
        "***h*** acumula el número de celdas donde se podría potencialmente colocar un nuevo caballo sin riesgo de amenaza. Este valor ***h*** se interpreta como la **calidad** de un estado del tablero:\n",
        "\n",
        "\n",
        "1.   Un valor alto sugiere que quedan más posiciones de colocación segura.\n",
        "2.   Un valor bajo significa que quedan pocas posiciones de colocación segura.\n",
        "3. Y un valor equivalente a 0 afirma que no quedan posiciones seguras donde colocar caballos.\n",
        "\n",
        "La **heurística es admisible porque no sobreestima el nº de caballos adicionales que pueden colocarse en el tablero**. El diseño se basa en contar tan solo las celdas vacías y no amenzadas de modo que nos indica valores exactos de la capacidad de colocación.\n",
        "\n"
      ]
    },
    {
      "cell_type": "markdown",
      "metadata": {
        "id": "N0IA_IPBnlfE"
      },
      "source": [
        "## Algoritmo de búsqueda"
      ]
    },
    {
      "cell_type": "markdown",
      "metadata": {
        "id": "muklCcCtnlfE"
      },
      "source": [
        "### Poda"
      ]
    },
    {
      "cell_type": "code",
      "execution_count": 10,
      "metadata": {
        "id": "z4SD4kwfnlfE"
      },
      "outputs": [],
      "source": [
        "def prune(path_list):\n",
        "    # Si detecta que dos caminos llevan al mismo estado,\n",
        "    # solo nos interesa aquel camino de menor coste\n",
        "    pruned_list = [path_list[0]]\n",
        "    for path in path_list[1:]:\n",
        "        last_board = path[-1]\n",
        "        i = -1\n",
        "        for pruned_path in pruned_list:\n",
        "            i = i+1\n",
        "            if last_board == pruned_path[-1]:\n",
        "                if cost(path) < cost(pruned_path): #Si está y es menor coste...\n",
        "                    pruned_list[i] = path\n",
        "                break\n",
        "        else:\n",
        "            pruned_list.append(path) #Si no está la añade\n",
        "    return pruned_list"
      ]
    },
    {
      "cell_type": "markdown",
      "metadata": {
        "id": "0yC5spdWnlfE"
      },
      "source": [
        "### Ordenacion"
      ]
    },
    {
      "cell_type": "code",
      "execution_count": 11,
      "metadata": {
        "id": "0BSeCXAJnlfF"
      },
      "outputs": [],
      "source": [
        "# *args y **kwargs son argumentos variables, si el argumento no es reconocido es almacenado en estas variables.\n",
        "# Aquí se utilizan para ignorar argumentos innecesarios.\n",
        "\n",
        "def order_astar(old_paths, new_paths, c, h, *args, **kwargs):\n",
        "    all_paths = old_paths + new_paths\n",
        "    all_paths.sort(key=lambda path: c(path)+ h(path[-1])) #La variable num es para mejorar la optimización\n",
        "    return prune(all_paths) # Devuelve la lista de caminos ordenada y podada segun A*\n",
        "\n",
        "def order_byb(old_paths, new_paths, c, *args, **kwargs):\n",
        "    all_paths = old_paths + new_paths\n",
        "    all_paths.sort(key=lambda path: c(path))\n",
        "    return prune(all_paths) # Devuelve la lista de caminos ordenada y podada segun B&B"
      ]
    },
    {
      "cell_type": "markdown",
      "metadata": {
        "id": "KdK9P2BonlfF"
      },
      "source": [
        "### Algoritmo de búsqueda"
      ]
    },
    {
      "cell_type": "code",
      "execution_count": 12,
      "metadata": {
        "id": "igfEa7LwnlfF"
      },
      "outputs": [],
      "source": [
        "def search(initial_board, expansion, cost, heuristic, ordering, solution):\n",
        "    paths = [[initial_board]]\n",
        "    sol = None\n",
        "    num_knight = dfs_max_knights(initial_board)\n",
        "\n",
        "    while paths:\n",
        "        current_path = paths.pop(0)\n",
        "        current_state = current_path[-1]\n",
        "        if solution(current_state) and measure_solution(current_state) == num_knight: #Si es solucion y el numero de caballos es máximo...\n",
        "            sol = current_state\n",
        "            break\n",
        "\n",
        "        new_paths = [current_path + [new_state] for new_state in expansion(current_state)]\n",
        "        if new_paths:\n",
        "            paths = ordering(paths, new_paths, cost, heuristic)\n",
        "\n",
        "    return sol"
      ]
    },
    {
      "cell_type": "markdown",
      "metadata": {
        "id": "9GR8z-HEnlfF"
      },
      "source": [
        "# Experimentos\n",
        "Usa las funciones `search_horse_byb` y `search_horse_astar` para extraer resultados."
      ]
    },
    {
      "cell_type": "markdown",
      "metadata": {
        "id": "8bqZZ5hWnlfF"
      },
      "source": [
        "## Utilidades\n",
        "Usa estas funciones pre-programadas para ejecutar los experimentos y resumir el código."
      ]
    },
    {
      "cell_type": "markdown",
      "metadata": {
        "id": "lY9I23MSnlfG"
      },
      "source": [
        "### Temporizador"
      ]
    },
    {
      "cell_type": "code",
      "execution_count": 13,
      "metadata": {
        "id": "oQsyNkxBnlfG"
      },
      "outputs": [],
      "source": [
        "################################# NO TOCAR #################################\n",
        "#                                                                          #\n",
        "import time\n",
        "\n",
        "def timer(func):\n",
        "    def wrapper(*args, **kwargs):\n",
        "        start = time.time()\n",
        "        res = func(*args, **kwargs)\n",
        "        end = time.time()\n",
        "        print(\"Executime time: \", end - start, \" seconds\")\n",
        "        return res\n",
        "    return wrapper\n",
        "#                                                                          #\n",
        "################################# NO TOCAR #################################\n",
        "\n",
        "# Este codigo temporiza la ejecución de una función cualquiera"
      ]
    },
    {
      "cell_type": "markdown",
      "metadata": {
        "id": "j3DttncwnlfG"
      },
      "source": [
        "### Envoltorios"
      ]
    },
    {
      "cell_type": "code",
      "execution_count": 14,
      "metadata": {
        "id": "eeHNpIR7nlfG"
      },
      "outputs": [],
      "source": [
        "################################# NO TOCAR #################################\n",
        "#                                                                          #\n",
        "@timer\n",
        "def search_horse_byb(initial_board):\n",
        "    return search(initial_board, expand, cost, None, order_byb, is_solution)\n",
        "\n",
        "@timer\n",
        "def search_horse_astar(initial_board, heuristic):\n",
        "    return search(initial_board, expand, cost, heuristic, order_astar, is_solution)\n",
        "#                                                                          #\n",
        "################################# NO TOCAR #################################\n"
      ]
    },
    {
      "cell_type": "markdown",
      "metadata": {
        "id": "tj4ndHuEnlfG"
      },
      "source": [
        "### Lanzador de experimentos"
      ]
    },
    {
      "cell_type": "code",
      "execution_count": 15,
      "metadata": {
        "id": "6FBa0nSjnlfG"
      },
      "outputs": [],
      "source": [
        "CONF = {'2x2': (2, 2),\n",
        "        '3x3': (3, 3),\n",
        "        '3x5': (3, 5),\n",
        "        '5x5': (5, 5),\n",
        "        '8x8': (8, 8),\n",
        "        }\n",
        "\n",
        "def measure_solution(board):\n",
        "    # Devuelve el número de caballos en la solución\n",
        "    return sum(row.count(\"K\") for row in board)\n",
        "\n",
        "def launch_experiment(configuration, heuristic=None):\n",
        "    conf = CONF[configuration]\n",
        "    print(f\"Running {'A*' if heuristic else 'B&B'} with {configuration} board\")\n",
        "    if heuristic:\n",
        "        sol = search_horse_astar(initial_state(*conf), heuristic)\n",
        "    else:\n",
        "        sol = search_horse_byb(initial_state(*conf))\n",
        "    n_c = measure_solution(sol)\n",
        "    print(f\"Solution found: \\n{sol}\")\n",
        "    print(f\"Number of horses in solution: {n_c}\")\n",
        "\n",
        "    return sol, n_c"
      ]
    },
    {
      "cell_type": "markdown",
      "metadata": {
        "id": "6l3mk4KUnlfG"
      },
      "source": [
        "## Ejecuciones\n",
        "Este espacio de la práctica está reservado a las ejecuciones de los algoritmos. Se recomienda el uso del método launch_experiment."
      ]
    },
    {
      "cell_type": "code",
      "execution_count": 16,
      "metadata": {
        "colab": {
          "base_uri": "https://localhost:8080/"
        },
        "id": "A2xM4VN4nlfG",
        "outputId": "3755a2d9-eda8-4910-c502-2fef4086d55c"
      },
      "outputs": [
        {
          "output_type": "stream",
          "name": "stdout",
          "text": [
            "Running B&B with 2x2 board\n",
            "Executime time:  0.0009710788726806641  seconds\n",
            "Solution found: \n",
            "[['K', 'K'], [0, 0]]\n",
            "Number of horses in solution: 2\n",
            "\n",
            "Running A* with 3x5 board\n",
            "Executime time:  0.2018909454345703  seconds\n",
            "Solution found: \n",
            "[['K', 0, 'K', 0, 'K'], [0, 'K', 0, 'K', 0], ['K', 0, 'K', 0, 'K']]\n",
            "Number of horses in solution: 8\n",
            "Execution finished\n"
          ]
        }
      ],
      "source": [
        "launch_experiment('2x2') # Ejemplo de uso para B&B\n",
        "print()\n",
        "launch_experiment('3x5', heuristic=heuristic_1) # Ejemplo de uso para A*\n",
        "print(\"Execution finished\")"
      ]
    },
    {
      "cell_type": "markdown",
      "metadata": {
        "id": "dznNYK44nlfG"
      },
      "source": [
        "### Branch & Bound"
      ]
    },
    {
      "cell_type": "code",
      "execution_count": null,
      "metadata": {
        "colab": {
          "base_uri": "https://localhost:8080/"
        },
        "id": "J5TlnFldnlfH",
        "outputId": "38779ff4-7e9d-43dc-cdf6-8a8cd1921d0f"
      },
      "outputs": [
        {
          "output_type": "stream",
          "name": "stdout",
          "text": [
            "Running B&B with 2x2 board\n",
            "Executime time:  0.00020623207092285156  seconds\n",
            "Solution found: \n",
            "[['K', 'K'], [0, 0]]\n",
            "Number of horses in solution: 2\n",
            "\n",
            "Running B&B with 3x3 board\n",
            "Executime time:  0.04863929748535156  seconds\n",
            "Solution found: \n",
            "[['K', 0, 'K'], [0, 'K', 0], ['K', 0, 'K']]\n",
            "Number of horses in solution: 5\n",
            "\n",
            "Running B&B with 3x5 board\n",
            "Executime time:  10.197821378707886  seconds\n",
            "Solution found: \n",
            "[['K', 0, 'K', 0, 'K'], [0, 'K', 0, 'K', 0], ['K', 0, 'K', 0, 'K']]\n",
            "Number of horses in solution: 8\n",
            "\n",
            "Running B&B with 5x5 board\n"
          ]
        }
      ],
      "source": [
        "### Coloca aquí tus experimentos ###\n",
        "launch_experiment('2x2') # Ejemplo de uso para B&B\n",
        "print()\n",
        "launch_experiment('3x3') # Ejemplo de uso para B&B\n",
        "print()\n",
        "launch_experiment('3x5') # Ejemplo de uso para B&B\n",
        "print()\n",
        "launch_experiment('5x5') # Ejemplo de uso para B&B\n",
        "print()\n",
        "launch_experiment('8x8') # Ejemplo de uso para B&B\n",
        "print()"
      ]
    },
    {
      "cell_type": "markdown",
      "metadata": {
        "id": "9J59QSZrnlfH"
      },
      "source": [
        "**Resultados de Branch & Bound**\n",
        "\n",
        "**TABLA 1**\n",
        "\n",
        "| TABLERO | SOLUCIÓN B&B | TIEMPO EJECUCIÓN B&B (s) |\n",
        "|---------|--------------|--------------------------|\n",
        "| 2x2     | 4            | 0.0037941932678222656    |\n",
        "| 3x3     | 5            | 0.07314920425415039      |\n",
        "| 3x5     | 8            | 4.931793451309204        |\n",
        "| 5x5     | X            | >300 = 5min              |\n",
        "| 8x8     | X            | >300 = 5min              |\n",
        "\n",
        "**OBSERVACIONES**:\n",
        "\n",
        "En cuanto al algoritmo B&B, una observación bastante importante que queremos destacar es la diferencia de ejecución de los tres primeros tableros (2x2, 3x3, 3x5) y los siguientes dos (5x5, 8x8). Como bien podemos ver en la tabla, pasa de ejecutarse en pocos segundos a varios minutos. De modo que, en nuestra opinion esta ejecuciñon no se realiza de forma razonable y ágil.  \n",
        "\n",
        "Dicho porblema puede deberse a la complejidad de los tableros mayores ya que es más complicado situar los caballos de manera que no se amenacen unos a otros.\n",
        "\n",
        "Se expresa la solución de algoritmo en nº de caballos correctamente situados sin amenzarse entre si y el tiempo de ejecución en segundos.\n"
      ]
    },
    {
      "cell_type": "markdown",
      "metadata": {
        "id": "8c02KEGQnlfH"
      },
      "source": [
        "### A*"
      ]
    },
    {
      "cell_type": "code",
      "execution_count": null,
      "metadata": {
        "id": "5Jn8eC6UnlfH"
      },
      "outputs": [],
      "source": [
        "### Coloca aquí tus experimentos ###\n",
        "launch_experiment('2x2', heuristic=heuristic_1)\n",
        "print()\n",
        "launch_experiment('3x3', heuristic=heuristic_1)\n",
        "print()\n",
        "launch_experiment('3x5', heuristic=heuristic_1)\n",
        "print()\n",
        "launch_experiment('5x5', heuristic=heuristic_1)\n",
        "print()\n",
        "launch_experiment('8x8', heuristic=heuristic_1)\n",
        "print()"
      ]
    },
    {
      "cell_type": "markdown",
      "metadata": {
        "id": "M8wQo-oMnlfI"
      },
      "source": [
        "**Resultados de A-Star**\n",
        "\n",
        "**TABLA 2**\n",
        "\n",
        "| TABLERO | SOLUCIÓN A* | TIEMPO EJECUCIÓN  A* (s) |\n",
        "|---------|-------------|--------------------------|\n",
        "| 2x2     | 4           | 0.0002090930938720703    |\n",
        "| 3x3     | 5           | 0.006135463714599609     |\n",
        "| 3x5     | 8           | 0.09157228469848633      |\n",
        "| 5x5     | 13          | 13.521714925765991       |\n",
        "| 8x8     | X           | >300 = 5min              |\n",
        "\n",
        "**OBSERVACIONES:**\n",
        "\n",
        "En cuanto a los datos recogidos de la ejecución del algoritmo A-STAR, observamos que es resolutivo en los tableros 2x2, 3x3, 3x5 y 5x5. Realiza la ejecución en un buen tiempo, consideramos que es ágil y funcional. Y muestra una solución correcta.\n",
        "\n",
        "Sin embargo, en cuanto al tablero 8x8 nos encontramos con el problema expresado anteriormente. La ejecución se alarga en exceso y consideramos que no se ejecuta en un tiempo razonable.\n",
        "\n",
        "Se expresa la solución de algoritmo en nº de caballos correctamente situados sin amenzarse entre si y el tiempo de ejecución en segundos.\n"
      ]
    },
    {
      "cell_type": "markdown",
      "metadata": {
        "id": "53ND2ZcCnlfI"
      },
      "source": [
        "## Conclusiones\n",
        "\n",
        "**TABLA 3**\n",
        "\n",
        "| TABLERO | SOLUCIÓN A* | TIEMPO EJECUCIÓN  A* (s) | SOLUCIÓN B&B | TIEMPO EJECUCIÓN B&B (s) |\n",
        "|---------|-------------|--------------------------|--------------|--------------------------|\n",
        "| 2x2     | 4           | 0.0002090930938720703    | 4            | 0.0037941932678222656    |\n",
        "| 3x3     | 5           | 0.006135463714599609     | 5            | 0.07314920425415039      |\n",
        "| 3x5     | 8           | 0.09157228469848633      | 8            | 4.931793451309204        |\n",
        "| 5x5     | 13          | 13.521714925765991       | X            | > 300 = 5min                        |\n",
        "| 8x8     | X           | >300 = 5min              | X            | > 300 = 5min                        |\n",
        "\n",
        "\n",
        "\n",
        "\n",
        "**OBSERVACIONES Y COMPARACIONES:**\n",
        "\n",
        "Aquí disponemos de una tabla comparativa entre las soluciones de los algoritmos de búsqueda A* y B&B. En el eje de la Y observamos los diferentes tableros que hemos implementado. En el eje X observamos que las dos primeras columnas corresponden a la solución del algoritmo A* y a su derecha una tabla que expresa el tiempo que se tarda en ejecutar dicha sección de código. Lo mismo pasa con el algoritmo de B&B, tiene su columna de soluciones y tiempos de ejecución.\n",
        "\n",
        "Reflejamos el tiempo en segundos (s) y la solución se expresa mediante el máximo nº de caballos posibles sin que se amenacen uno a otro que se pueden introducir en dicho tablero. Esa misma solución se expresa de forma gráfica en la salida de las ejecuciones.\n",
        "\n",
        "Las casillas marcadas con X reflejan una ejecuión de tiempo excesivo donde no se halla ningún tipo de resultado.\n",
        "\n",
        "\n",
        "**1. COMPARACIONES**\n",
        "- En primer lugar observamos que el algoritmo A* realiza una búsqueda más extensiva que el algoritmo B&B. Llega hasta el tablero 5x5 de manera rápida y además hallando una solición. Cosa que B&B no llega a realizar ya que explorar sistemáticamente más posibilidades, lo que se traduce en tiempos de ejecución más largos y dificultad para resolver tableros grandes.\n",
        "\n",
        "- Los tiempos de ejecución de A* son notablemente menores que los de B&B. Cogen una diferencia mayor a partir del tablero 3x5. A ese estado de ejecución A* es 54,7 veces más rápido que B&B.\n",
        "\n",
        "- Ambos alogitmos estan destinados a la búsqueda del camino óptimo. Se diferencian en que B&B pertenece al grupo de algoritmos de búsqueda no informada (no usa heurística) y A* al grupo de búsiqueda informada (sí usa heurísitica).\n",
        "\n",
        "**2. CONCLUSIONES:**\n",
        "\n",
        "En todas las ejecuciones el algoritmo A* de búsqueda informada mostró más eficiencia ya que al emplear la heurística reduce considerablemente el número de nodos explorados y alcanza la solución en menos pasos y en un menor tiempo de ejecución. De modo que A* sería el algoritmo elegido en este tipo de problema con estas caraterísiticas particualres.\n",
        "\n",
        "En relacion a la escalabilidad de los tableros, A* se comporta de manera más razonable y eficaz que B&B ya que este se ve obligado a explorar  exhaustivamente opciones en ausencia de una guía heurística.\n",
        "\n",
        "En cuanto al entrono de la práctica queremos hacer hincapié en observaciones específicas de su funcionamiento:\n",
        "- A medida que hemos realizado nuemerosas ejecuciones nos hemos dado cuenta de que con cada una de ellas bajaba el tiempo de ejecución de los algoitmos."
      ]
    }
  ],
  "metadata": {
    "colab": {
      "provenance": []
    },
    "kernelspec": {
      "display_name": "Python 3",
      "language": "python",
      "name": "python3"
    },
    "language_info": {
      "codemirror_mode": {
        "name": "ipython",
        "version": 3
      },
      "file_extension": ".py",
      "mimetype": "text/x-python",
      "name": "python",
      "nbconvert_exporter": "python",
      "pygments_lexer": "ipython3",
      "version": "3.10.11"
    }
  },
  "nbformat": 4,
  "nbformat_minor": 0
}